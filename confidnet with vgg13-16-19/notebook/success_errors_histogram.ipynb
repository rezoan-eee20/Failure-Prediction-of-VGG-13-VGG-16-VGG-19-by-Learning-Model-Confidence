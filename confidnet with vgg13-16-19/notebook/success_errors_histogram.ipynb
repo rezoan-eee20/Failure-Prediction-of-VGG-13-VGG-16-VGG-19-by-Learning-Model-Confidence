{
 "cells": [
  {
   "cell_type": "markdown",
   "metadata": {},
   "source": [
    "# Success/Errors Histogram"
   ]
  },
  {
   "cell_type": "code",
   "execution_count": 1,
   "metadata": {},
   "outputs": [],
   "source": [
    "import torch\n",
    "import torch.nn.functional as F\n",
    "import numpy as np\n",
    "from tqdm.notebook import tqdm\n",
    "from sklearn.metrics import average_precision_score\n",
    "from sklearn.metrics import roc_auc_score\n",
    "import matplotlib.pyplot as plt\n",
    "%matplotlib inline\n",
    "\n",
    "import sys\n",
    "sys.path.insert(0, '../')\n",
    "from loaders import get_loader\n",
    "from learners import get_learner\n",
    "from utils import misc\n",
    "\n",
    "# Device configuration\n",
    "device = torch.device('cuda' if torch.cuda.is_available() else 'cpu')"
   ]
  },
  {
   "cell_type": "code",
   "execution_count": 2,
   "metadata": {},
   "outputs": [],
   "source": [
    "# DEFINE HERE YOUR CONFIG PATH AND THE EPOCH YOU WANT TO EVALUATE\n",
    "config_path = '/data/DEEPLEARNING/ccorbiere/logs/cifar10/github_weights/baseline/config_1.yaml' \n",
    "ckpt_path = '/data/DEEPLEARNING/ccorbiere/logs/cifar10/github_weights/baseline/model_epoch_197.ckpt'\n",
    "config_args = misc.load_yaml(config_path)"
   ]
  },
  {
   "cell_type": "code",
   "execution_count": 3,
   "metadata": {},
   "outputs": [
    {
     "name": "stderr",
     "output_type": "stream",
     "text": [
      "2019-12-22 21:20:40,127 gpuserver3 confidnet.loaders.loader[17796] INFO --- Augmentations ---\n",
      "2019-12-22 21:20:40,129 gpuserver3 confidnet.augmentations[17796] INFO Using hflip aug with params True\n",
      "2019-12-22 21:20:40,130 gpuserver3 confidnet.augmentations[17796] INFO Using rotate aug with params 15\n",
      "2019-12-22 21:20:40,131 gpuserver3 confidnet.augmentations[17796] INFO Using No Augmentations\n"
     ]
    },
    {
     "name": "stdout",
     "output_type": "stream",
     "text": [
      "Files already downloaded and verified\n",
      "Files already downloaded and verified\n"
     ]
    },
    {
     "name": "stderr",
     "output_type": "stream",
     "text": [
      "2019-12-22 21:20:42,056 gpuserver3 confidnet.loaders.loader[17796] WARNING Loading existing train-val split indices\n"
     ]
    }
   ],
   "source": [
    "# Get data loader\n",
    "dloader = get_loader(config_args)\n",
    "dloader.make_loaders()"
   ]
  },
  {
   "cell_type": "code",
   "execution_count": 4,
   "metadata": {},
   "outputs": [
    {
     "name": "stderr",
     "output_type": "stream",
     "text": [
      "2019-12-22 21:20:51,473 gpuserver3 confidnet.learners.learner[17796] INFO Using optimizer adam\n",
      "2019-12-22 21:20:51,475 gpuserver3 confidnet.learners.learner[17796] INFO Using loss cross_entropy\n"
     ]
    },
    {
     "data": {
      "text/plain": [
       "<All keys matched successfully>"
      ]
     },
     "execution_count": 4,
     "metadata": {},
     "output_type": "execute_result"
    }
   ],
   "source": [
    "# Initialize and load model\n",
    "learner = get_learner(config_args, dloader.train_loader, dloader.val_loader, dloader.test_loader, -1, device)\n",
    "checkpoint = torch.load(ckpt_path)\n",
    "learner.model.load_state_dict(checkpoint[\"model_state_dict\"])"
   ]
  },
  {
   "cell_type": "code",
   "execution_count": 5,
   "metadata": {},
   "outputs": [],
   "source": [
    "def predict_test_set(learner, mode='normal', samples=50, verbose=True):\n",
    "    accurate, errors, confidence = [], [], []\n",
    "    loop = tqdm(learner.test_loader, disable=not verbose)\n",
    "    for batch_id, (data, target) in enumerate(loop):\n",
    "        data, target = data.to(device), target.to(device)\n",
    "\n",
    "        with torch.no_grad():\n",
    "            if mode == \"normal\":\n",
    "                output = learner.model(data)\n",
    "                conf, pred = F.softmax(output, dim=1).max(dim=1, keepdim=True)\n",
    "\n",
    "            elif mode == \"gt\":\n",
    "                output = learner.model(data)\n",
    "                probs = F.softmax(output, dim=1)\n",
    "                pred = probs.max(dim=1, keepdim=True)[1]\n",
    "                labels_hot = misc.one_hot_embedding(target, learner.num_classes).to(device)\n",
    "                # Segmentation special case\n",
    "                if learner.task == \"segmentation\":\n",
    "                    labels_hot = labels_hot.permute(0, 3, 1, 2)\n",
    "                conf, _ = (labels_hot * probs).max(dim=1, keepdim=True)\n",
    "\n",
    "            elif mode == \"mc_dropout\":\n",
    "                if learner.task == \"classification\":\n",
    "                    outputs = torch.zeros(samples, data.shape[0], learner.num_classes).to(device)\n",
    "                elif learner.task == \"segmentation\":\n",
    "                    outputs = torch.zeros(samples, data.shape[0], learner.num_classes, \n",
    "                                          data.shape[2], data.shape[3]).to(device)\n",
    "                for i in range(samples):\n",
    "                    outputs[i] = learner.model(data)\n",
    "                output = outputs.mean(0)\n",
    "                probs = F.softmax(output, dim=1)\n",
    "                conf = (probs * torch.log(probs + 1e-9)).sum(dim=1)  # entropy\n",
    "                pred = probs.max(dim=1, keepdim=True)[1]\n",
    "\n",
    "            elif mode=='confidnet':\n",
    "                output, conf = learner.model(data)\n",
    "                pred = output.argmax(dim=1, keepdim=True)\n",
    "                conf = torch.sigmoid(conf)\n",
    "\n",
    "            accurate.extend(pred.eq(target.view_as(pred)))\n",
    "            errors.extend(pred!=target.view_as(pred))\n",
    "            confidence.extend(conf) \n",
    "\n",
    "    confidence = torch.stack(confidence).detach().to('cpu').numpy() .flatten()  \n",
    "    accurate = torch.cat(accurate).detach().to('cpu').numpy().flatten()\n",
    "    errors = torch.cat(errors).detach().to('cpu').numpy().flatten()\n",
    "    ap_success = average_precision_score(accurate, confidence)\n",
    "    ap_errors = average_precision_score(errors, -confidence)\n",
    "\n",
    "    return accurate, confidence, ap_success, ap_errors"
   ]
  },
  {
   "cell_type": "code",
   "execution_count": 6,
   "metadata": {},
   "outputs": [
    {
     "data": {
      "application/vnd.jupyter.widget-view+json": {
       "model_id": "f20bdf3c27de4602a1f16a0b9bd4cf97",
       "version_major": 2,
       "version_minor": 0
      },
      "text/plain": [
       "HBox(children=(IntProgress(value=0, max=79), HTML(value='')))"
      ]
     },
     "metadata": {},
     "output_type": "display_data"
    },
    {
     "name": "stdout",
     "output_type": "stream",
     "text": [
      "\n"
     ]
    }
   ],
   "source": [
    "accurate_normal, confidence_normal, _, _ = predict_test_set(learner, mode='normal')"
   ]
  },
  {
   "cell_type": "code",
   "execution_count": 7,
   "metadata": {},
   "outputs": [
    {
     "data": {
      "application/vnd.jupyter.widget-view+json": {
       "model_id": "a7d7bfce0621498a883ce68faa605ef5",
       "version_major": 2,
       "version_minor": 0
      },
      "text/plain": [
       "HBox(children=(IntProgress(value=0, max=79), HTML(value='')))"
      ]
     },
     "metadata": {},
     "output_type": "display_data"
    },
    {
     "name": "stdout",
     "output_type": "stream",
     "text": [
      "\n"
     ]
    }
   ],
   "source": [
    "accurate_gt, confidence_gt, _, _ = predict_test_set(learner, mode='gt')"
   ]
  },
  {
   "cell_type": "code",
   "execution_count": 8,
   "metadata": {},
   "outputs": [
    {
     "data": {
      "image/png": "[encoded data removed]",
      "text/plain": [
       "<Figure size 1080x360 with 2 Axes>"
      ]
     },
     "metadata": {
      "needs_background": "light"
     },
     "output_type": "display_data"
    }
   ],
   "source": [
    "plt.figure(figsize=(15,5))\n",
    "plt.subplot(121)\n",
    "plt.title('Maximum Class Probability', y=-0.2, fontsize=14)\n",
    "plt.hist(confidence_normal[np.where(accurate_normal==1)], \n",
    "         bins=np.linspace(0, 1,num=21), density=True, color='green',label='Successes')\n",
    "plt.hist(confidence_normal[np.where(accurate_normal==0)], \n",
    "         bins=np.linspace(0, 1,num=21), density=True, alpha=0.5, color='red',label='Errors')\n",
    "plt.xlabel('Confidence')\n",
    "plt.ylabel('Relative density')\n",
    "plt.xlim(left=0, right=1)\n",
    "plt.legend()\n",
    "plt.subplot(122)\n",
    "plt.title('True Class Probability', y=-0.2, fontsize=14)\n",
    "plt.hist(confidence_gt[np.where(accurate_gt==1)], \n",
    "         bins=np.linspace(0, 1,num=21), density=True, color='green',label='Successes')\n",
    "plt.hist(confidence_gt[np.where(accurate_gt==0)], \n",
    "         bins=np.linspace(0, 1,num=21), density=True, alpha=0.5, color='red',label='Errors')\n",
    "plt.xlabel('Confidence')\n",
    "plt.ylabel('Relative density')\n",
    "plt.xlim(left=0, right=1)\n",
    "plt.legend()\n",
    "plt.show()"
   ]
  }
 ],
 "metadata": {
  "kernelspec": {
   "display_name": "Python 3",
   "language": "python",
   "name": "python3"
  },
  "language_info": {
   "codemirror_mode": {
    "name": "ipython",
    "version": 3
   },
   "file_extension": ".py",
   "mimetype": "text/x-python",
   "name": "python",
   "nbconvert_exporter": "python",
   "pygments_lexer": "ipython3",
   "version": "3.6.5"
  }
 },
 "nbformat": 4,
 "nbformat_minor": 2
}
